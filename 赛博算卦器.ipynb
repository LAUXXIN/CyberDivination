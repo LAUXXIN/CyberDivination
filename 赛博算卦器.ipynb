{
 "cells": [
  {
   "cell_type": "code",
   "execution_count": null,
   "id": "d7fc2540-885f-4af6-b6ba-2b40df6631aa",
   "metadata": {},
   "outputs": [],
   "source": [
    "import random\n",
    "#取55根蓍草（55为天地之数），拿掉其中5根，再拿掉1根作为“人”，将剩下49根随机分成两份，分别模4得到余数，相加再加1得到一变\n",
    "#49减去一变得到的数代入重复这个过程，称为二变，类推得到三变，三变得到的数除以4，得到一爻，即三变得一爻\n",
    "def yarrow_method():\n",
    "    n=55-5-1\n",
    "    for _ in range(3):\n",
    "        a=random.randint(1,n-1)\n",
    "        b=n-a\n",
    "        b-=1\n",
    "        r1=a%4 or 4\n",
    "        r2=b%4 or 4\n",
    "        n=n-1-(r1+r2)\n",
    "    return n//4\n",
    "    \n",
    "#六爻得一卦\n",
    "def generate_hexagram():\n",
    "    hexagram=[]\n",
    "    for _ in range(6):\n",
    "        num=yarrow_method()\n",
    "        if num==6:\n",
    "            hexagram.append(\"--老阴\")\n",
    "        elif num==7:\n",
    "            hexagram.append(\"—少阳\")\n",
    "        elif num==8:\n",
    "            hexagram.append(\"--少阴\")\n",
    "        elif num==9:\n",
    "            hexagram.append(\"—老阳\")\n",
    "    return hexagram\n",
    "    \n",
    "#根据六爻得到的本卦推出变卦\n",
    "def generate_changed_hexagram(original):\n",
    "    changed=[]\n",
    "    for yao in original:\n",
    "        if \"--老阴\" in yao:\n",
    "            changed.append(\"—变阳\")\n",
    "        elif \"—老阳\" in yao:\n",
    "            changed.append(\"--变阴\")\n",
    "        else:\n",
    "            changed.append(yao)\n",
    "    return changed\n",
    "\n",
    "ben_gua=generate_hexagram()\n",
    "bian_gua=generate_changed_hexagram(ben_gua)\n",
    "\n",
    "print(\"本卦：\")\n",
    "for yao in reversed(ben_gua):\n",
    "    print(yao)    \n",
    "print(\"变卦：\")\n",
    "for yao in reversed(bian_gua):\n",
    "    print(yao)"
   ]
  }
 ],
 "metadata": {
  "kernelspec": {
   "display_name": "Python 3 (ipykernel)",
   "language": "python",
   "name": "python3"
  },
  "language_info": {
   "codemirror_mode": {
    "name": "ipython",
    "version": 3
   },
   "file_extension": ".py",
   "mimetype": "text/x-python",
   "name": "python",
   "nbconvert_exporter": "python",
   "pygments_lexer": "ipython3",
   "version": "3.12.2"
  }
 },
 "nbformat": 4,
 "nbformat_minor": 5
}
